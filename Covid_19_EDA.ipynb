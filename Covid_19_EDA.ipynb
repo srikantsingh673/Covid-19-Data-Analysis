{
 "cells": [
  {
   "cell_type": "code",
   "execution_count": 173,
   "metadata": {},
   "outputs": [],
   "source": [
    "import pandas as pd\n",
    "import matplotlib.pyplot as plt\n",
    "\n",
    "df = pd.read_csv('Data_Set.csv')"
   ]
  },
  {
   "cell_type": "code",
   "execution_count": 174,
   "metadata": {},
   "outputs": [
    {
     "name": "stdout",
     "output_type": "stream",
     "text": [
      "Total Number of Rows:  5111\n",
      "Total Numbers of Columns:  39\n"
     ]
    }
   ],
   "source": [
    "print(\"Total Number of Rows: \", df.shape[0])\n",
    "print(\"Total Numbers of Columns: \", df.shape[1])"
   ]
  },
  {
   "cell_type": "code",
   "execution_count": 175,
   "metadata": {},
   "outputs": [
    {
     "name": "stdout",
     "output_type": "stream",
     "text": [
      "(1) Finding Skewness :\n"
     ]
    },
    {
     "data": {
      "text/plain": [
       "ip_latitude               -2.087471\n",
       "ip_longitude               1.652506\n",
       "ip_accuracy                3.157092\n",
       "height                    -0.444816\n",
       "weight                     1.203467\n",
       "bmi                        2.205616\n",
       "contacts_count             1.001026\n",
       "house_count                1.777352\n",
       "public_transport_count     6.091561\n",
       "worried                   -0.301183\n",
       "covid19_positive           0.557063\n",
       "covid19_symptoms           2.354682\n",
       "covid19_contact            2.369179\n",
       "asthma                     2.284441\n",
       "kidney_disease             7.964242\n",
       "liver_disease             10.175924\n",
       "compromised_immune         3.605102\n",
       "heart_disease              4.768362\n",
       "lung_disease               6.159167\n",
       "diabetes                   2.988074\n",
       "hiv_positive              15.508909\n",
       "hypertension               1.652573\n",
       "other_chronic              3.341092\n",
       "nursing_home              10.401023\n",
       "health_worker              3.653815\n",
       "risk_infection             0.406947\n",
       "risk_mortality            13.180574\n",
       "dtype: float64"
      ]
     },
     "execution_count": 175,
     "metadata": {},
     "output_type": "execute_result"
    }
   ],
   "source": [
    "print(\"(1) Finding Skewness :\")\n",
    "df.skew(axis = 0, skipna = True)"
   ]
  },
  {
   "cell_type": "code",
   "execution_count": 176,
   "metadata": {},
   "outputs": [
    {
     "name": "stdout",
     "output_type": "stream",
     "text": [
      "\n",
      " (2) Finding Inconsistencies or errors in the dataset : \n",
      "\n",
      "    (i) Sum of all blank data columns in dataset - \n",
      "\n",
      "survey_date                  0\n",
      "region                       1\n",
      "country                      1\n",
      "ip_latitude                  0\n",
      "ip_longitude                 0\n",
      "ip_accuracy                  0\n",
      "sex                          0\n",
      "age                          0\n",
      "height                       0\n",
      "weight                       0\n",
      "bmi                          0\n",
      "blood_type                   0\n",
      "insurance                 1168\n",
      "income                    1168\n",
      "race                      1168\n",
      "immigrant                 1168\n",
      "smoking                     39\n",
      "contacts_count              46\n",
      "house_count                  0\n",
      "public_transport_count    1168\n",
      "working                     46\n",
      "worried                   1168\n",
      "covid19_positive             0\n",
      "covid19_symptoms             0\n",
      "covid19_contact              0\n",
      "asthma                       0\n",
      "kidney_disease               0\n",
      "liver_disease                0\n",
      "compromised_immune           0\n",
      "heart_disease                0\n",
      "lung_disease                 0\n",
      "diabetes                     0\n",
      "hiv_positive                 0\n",
      "hypertension                 0\n",
      "other_chronic                0\n",
      "nursing_home                 0\n",
      "health_worker                0\n",
      "risk_infection               0\n",
      "risk_mortality               0\n",
      "dtype: int64\n"
     ]
    }
   ],
   "source": [
    "print(\"\\n (2) Finding Inconsistencies or errors in the dataset : \\n\")\n",
    "print(\"    (i) Sum of all blank data columns in dataset - \\n\")\n",
    "print(str(df.isna().sum()))\n",
    "\n",
    "\n",
    "df = df[~df['region'].isnull()]\n",
    "df = df[~df['country'].isnull()]\n",
    "df['insurance'] = df['insurance'].fillna(\"blank\")\n",
    "df['income'] = df['income'].fillna(\"blank\")\n",
    "df['race'] = df['race'].fillna(\"blank\")\n",
    "df['immigrant'] = df['immigrant'].fillna(\"blank\")\n",
    "df['smoking'] = df['smoking'].fillna(\"blank\")\n",
    "df['contacts_count'] = df['contacts_count'].fillna(0)\n",
    "df['public_transport_count'] = df['public_transport_count'].fillna(\"0\")\n",
    "df['working'] = df['working'].fillna(0)\n",
    "df['worried'] = df['worried'].fillna(0)\n"
   ]
  },
  {
   "cell_type": "code",
   "execution_count": 177,
   "metadata": {},
   "outputs": [
    {
     "name": "stdout",
     "output_type": "stream",
     "text": [
      "\n",
      " ** After cleaning the dataset ** \n",
      "\n",
      "survey_date               0\n",
      "region                    0\n",
      "country                   0\n",
      "ip_latitude               0\n",
      "ip_longitude              0\n",
      "ip_accuracy               0\n",
      "sex                       0\n",
      "age                       0\n",
      "height                    0\n",
      "weight                    0\n",
      "bmi                       0\n",
      "blood_type                0\n",
      "insurance                 0\n",
      "income                    0\n",
      "race                      0\n",
      "immigrant                 0\n",
      "smoking                   0\n",
      "contacts_count            0\n",
      "house_count               0\n",
      "public_transport_count    0\n",
      "working                   0\n",
      "worried                   0\n",
      "covid19_positive          0\n",
      "covid19_symptoms          0\n",
      "covid19_contact           0\n",
      "asthma                    0\n",
      "kidney_disease            0\n",
      "liver_disease             0\n",
      "compromised_immune        0\n",
      "heart_disease             0\n",
      "lung_disease              0\n",
      "diabetes                  0\n",
      "hiv_positive              0\n",
      "hypertension              0\n",
      "other_chronic             0\n",
      "nursing_home              0\n",
      "health_worker             0\n",
      "risk_infection            0\n",
      "risk_mortality            0\n",
      "dtype: int64\n",
      "\n",
      "   (ii) Now we will remove convert invalid float data columns to int64 data columns \n",
      "\n",
      "\n",
      "  ** Cleaned data ** \n",
      "\n",
      "<class 'pandas.core.frame.DataFrame'>\n",
      "Int64Index: 5110 entries, 0 to 5110\n",
      "Data columns (total 39 columns):\n",
      "survey_date               5110 non-null object\n",
      "region                    5110 non-null object\n",
      "country                   5110 non-null object\n",
      "ip_latitude               5110 non-null float64\n",
      "ip_longitude              5110 non-null float64\n",
      "ip_accuracy               5110 non-null int64\n",
      "sex                       5110 non-null object\n",
      "age                       5110 non-null object\n",
      "height                    5110 non-null int64\n",
      "weight                    5110 non-null int64\n",
      "bmi                       5110 non-null float64\n",
      "blood_type                5110 non-null object\n",
      "insurance                 5110 non-null object\n",
      "income                    5110 non-null object\n",
      "race                      5110 non-null object\n",
      "immigrant                 5110 non-null object\n",
      "smoking                   5110 non-null object\n",
      "contacts_count            5110 non-null int64\n",
      "house_count               5110 non-null int64\n",
      "public_transport_count    5110 non-null int64\n",
      "working                   5110 non-null object\n",
      "worried                   5110 non-null int64\n",
      "covid19_positive          5110 non-null int64\n",
      "covid19_symptoms          5110 non-null int64\n",
      "covid19_contact           5110 non-null int64\n",
      "asthma                    5110 non-null int64\n",
      "kidney_disease            5110 non-null int64\n",
      "liver_disease             5110 non-null int64\n",
      "compromised_immune        5110 non-null int64\n",
      "heart_disease             5110 non-null int64\n",
      "lung_disease              5110 non-null int64\n",
      "diabetes                  5110 non-null int64\n",
      "hiv_positive              5110 non-null int64\n",
      "hypertension              5110 non-null int64\n",
      "other_chronic             5110 non-null int64\n",
      "nursing_home              5110 non-null int64\n",
      "health_worker             5110 non-null int64\n",
      "risk_infection            5110 non-null float64\n",
      "risk_mortality            5110 non-null float64\n",
      "dtypes: float64(5), int64(22), object(12)\n",
      "memory usage: 1.6+ MB\n"
     ]
    }
   ],
   "source": [
    "print(\"\\n ** After cleaning the dataset ** \\n\")\n",
    "print(str(df.isna().sum()))\n",
    "\n",
    "\n",
    "print(\"\\n   (ii) Now we will remove convert invalid float data columns to int64 data columns \\n\")\n",
    "df[\"worried\"] = df[\"worried\"].astype('int64')\n",
    "df[\"public_transport_count\"] = df[\"public_transport_count\"].astype('int64')\n",
    "df[\"contacts_count\"] = df[\"contacts_count\"].astype('int64')\n",
    "\n",
    "print(\"\\n  ** Cleaned data ** \\n\")\n",
    "df.info()"
   ]
  },
  {
   "cell_type": "code",
   "execution_count": 178,
   "metadata": {},
   "outputs": [
    {
     "name": "stdout",
     "output_type": "stream",
     "text": [
      "Average BMI of patients from US who is COVID-19 positive is :- 30.89091653027822\n"
     ]
    }
   ],
   "source": [
    "#Calculating Average BMI of patients who belongs from usa and having COVID\n",
    "us_avg_bmi = df[(df.country == 'US') & (df.covid19_positive==1)]['bmi'].mean()\n",
    "print(\"Average BMI of patients from US who is COVID-19 positive is :- \" + str(us_avg_bmi))"
   ]
  },
  {
   "cell_type": "code",
   "execution_count": 179,
   "metadata": {},
   "outputs": [
    {
     "name": "stdout",
     "output_type": "stream",
     "text": [
      "\n",
      "\n",
      "** Folowing Country has the highest (average) risk of mortality **\n"
     ]
    },
    {
     "data": {
      "text/plain": [
       "country\n",
       "IT     10.031844\n",
       "AD      3.994000\n",
       "PT      3.603583\n",
       "AM      3.291000\n",
       "NZ      3.143556\n",
       "IL      2.813167\n",
       "BS      2.273000\n",
       "MT      2.260333\n",
       "EG      2.245333\n",
       "AW      2.171000\n",
       "IR      1.787500\n",
       "CH      1.576154\n",
       "DZ      1.527000\n",
       "PH      1.363182\n",
       "PE      1.329111\n",
       "IE      1.195176\n",
       "GR      1.190231\n",
       "HK      1.181111\n",
       "PR      1.110500\n",
       "IN      1.109151\n",
       "NO      1.099800\n",
       "VI      1.081000\n",
       "CA      0.967201\n",
       "SA      0.956000\n",
       "HU      0.932125\n",
       "NP      0.899000\n",
       "US      0.838373\n",
       "GB      0.817862\n",
       "DO      0.814400\n",
       "MO      0.748000\n",
       "         ...    \n",
       "TR      0.370625\n",
       "BD      0.363000\n",
       "AT      0.355600\n",
       "SE      0.348632\n",
       "ET      0.314000\n",
       "DE      0.312500\n",
       "EC      0.312000\n",
       "BG      0.299857\n",
       "HR      0.297000\n",
       "PA      0.293000\n",
       "AE      0.239100\n",
       "TH      0.218333\n",
       "SG      0.213500\n",
       "SV      0.181500\n",
       "DK      0.158750\n",
       "IQ      0.151000\n",
       "KR      0.142333\n",
       "HN      0.131833\n",
       "SK      0.131500\n",
       "MK      0.130182\n",
       "MD      0.111500\n",
       "MM      0.096000\n",
       "CR      0.094500\n",
       "UA      0.090000\n",
       "N.A     0.079000\n",
       "MZ      0.073000\n",
       "QA      0.064000\n",
       "BH      0.062500\n",
       "FI      0.056333\n",
       "KE      0.050000\n",
       "Name: risk_mortality, Length: 91, dtype: float64"
      ]
     },
     "execution_count": 179,
     "metadata": {},
     "output_type": "execute_result"
    }
   ],
   "source": [
    "data = df.groupby('country').risk_mortality.mean().sort_values(ascending = False)\n",
    "print(\"\\n\\n** Folowing Country has the highest (average) risk of mortality **\")\n",
    "data\n",
    "# plt.title('Country has the highest risk of mortality')\n",
    "# plt.pie(data, autopct = \"%0.2f%%\",radius = 1.2, shadow=True, textprops = {\"fontsize\":12})\n",
    "# plt.legend(df.country, loc = 2)\n",
    "# plt.show()"
   ]
  },
  {
   "cell_type": "code",
   "execution_count": 194,
   "metadata": {},
   "outputs": [
    {
     "name": "stdout",
     "output_type": "stream",
     "text": [
      "\n",
      "How many countries have reported at least 10 positive cases?\n"
     ]
    },
    {
     "data": {
      "text/plain": [
       "country\n",
       "US    1222\n",
       "BR     154\n",
       "GB     127\n",
       "CA      51\n",
       "MX      32\n",
       "IT      32\n",
       "ZA      17\n",
       "PK      17\n",
       "IN      15\n",
       "BE      13\n",
       "CL      11\n",
       "ES      10\n",
       "Name: covid19_positive, dtype: int64"
      ]
     },
     "execution_count": 194,
     "metadata": {},
     "output_type": "execute_result"
    }
   ],
   "source": [
    "print(\"\\nHow many countries have reported at least 10 positive cases?\")\n",
    "data = df.groupby('country').covid19_positive.sum().sort_values(ascending = False)\n",
    "data.head(12)"
   ]
  },
  {
   "cell_type": "code",
   "execution_count": null,
   "metadata": {},
   "outputs": [],
   "source": []
  }
 ],
 "metadata": {
  "kernelspec": {
   "display_name": "Python 3",
   "language": "python",
   "name": "python3"
  },
  "language_info": {
   "codemirror_mode": {
    "name": "ipython",
    "version": 3
   },
   "file_extension": ".py",
   "mimetype": "text/x-python",
   "name": "python",
   "nbconvert_exporter": "python",
   "pygments_lexer": "ipython3",
   "version": "3.7.0"
  }
 },
 "nbformat": 4,
 "nbformat_minor": 2
}
